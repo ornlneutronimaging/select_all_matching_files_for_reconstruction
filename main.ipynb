{
 "cells": [
  {
   "cell_type": "code",
   "execution_count": 1,
   "id": "ff6a4dbb",
   "metadata": {},
   "outputs": [],
   "source": [
    "import os\n",
    "import glob\n",
    "import pprint\n",
    "\n",
    "from code.metadata_handler import MetadataHandler\n",
    "from code.main import Main"
   ]
  },
  {
   "cell_type": "code",
   "execution_count": 2,
   "id": "a728b971",
   "metadata": {},
   "outputs": [],
   "source": [
    "# this will be the folder just above the DF and OB\n",
    "top_folder = \"/Volumes/G-DRIVE/IPTS/IPTS-27727-normalization_with_simplify_selection/raw_with_some_not_matching_ob_and_df/\""
   ]
  },
  {
   "cell_type": "code",
   "execution_count": 3,
   "id": "0b500c6b",
   "metadata": {},
   "outputs": [
    {
     "name": "stdout",
     "output_type": "stream",
     "text": [
      "found 6 raw data files\n"
     ]
    }
   ],
   "source": [
    "# input sample data\n",
    "input_sample_folder = \"/Volumes/G-DRIVE/IPTS/IPTS-27727-normalization_with_simplify_selection/raw_with_some_not_matching_ob_and_df/radiographs/\"\n",
    "assert os.path.exists(input_sample_folder)\n",
    "list_sample_data = glob.glob(input_sample_folder + \"*.tiff\")\n",
    "print(f\"found {len(list_sample_data)} raw data files\")"
   ]
  },
  {
   "cell_type": "code",
   "execution_count": 4,
   "id": "e8ba3b1a",
   "metadata": {},
   "outputs": [
    {
     "data": {
      "application/vnd.jupyter.widget-view+json": {
       "model_id": "",
       "version_major": 2,
       "version_minor": 0
      },
      "text/plain": [
       "HBox(children=(Label(value='Retrieving time stamp of sample', layout=Layout(width='20%')), IntProgress(value=0…"
      ]
     },
     "metadata": {},
     "output_type": "display_data"
    }
   ],
   "source": [
    "# retrieve metadata from first sample data file\n",
    "sample_metadata_dict = MetadataHandler.retrieve_metadata(list_of_files=list_sample_data,\n",
    "                                                         display_infos=False,\n",
    "                                                         label='sample')\n",
    "# pprint.pprint(sample_metadata_dict)\n",
    "\n",
    "# retrieve acqusition starting time of first AND last sample data file"
   ]
  },
  {
   "cell_type": "code",
   "execution_count": 5,
   "id": "efe70118",
   "metadata": {
    "scrolled": false
   },
   "outputs": [
    {
     "data": {
      "application/vnd.jupyter.widget-view+json": {
       "model_id": "",
       "version_major": 2,
       "version_minor": 0
      },
      "text/plain": [
       "HBox(children=(Label(value='Retrieving time stamp of ob', layout=Layout(width='20%')), IntProgress(value=0, la…"
      ]
     },
     "metadata": {},
     "output_type": "display_data"
    },
    {
     "data": {
      "application/vnd.jupyter.widget-view+json": {
       "model_id": "",
       "version_major": 2,
       "version_minor": 0
      },
      "text/plain": [
       "HBox(children=(Label(value='Retrieving time stamp of df', layout=Layout(width='20%')), IntProgress(value=0, la…"
      ]
     },
     "metadata": {},
     "output_type": "display_data"
    }
   ],
   "source": [
    "# list all OB files and create a metatada dict of informations\n",
    "#   - acquisition starting time\n",
    "#   - detector used\n",
    "#  - slits position\n",
    "#  - acquisition duration\n",
    "\n",
    "ob_metadata_dict = Main.auto_retrieve_metadata(top_folder, data_type='ob')\n",
    "#pprint.pprint(ob_metadata_dict)\n",
    "\n",
    "# list all DC files and do the same\n",
    "\n",
    "df_metadata_dict = Main.auto_retrieve_metadata(top_folder, data_type='df')\n",
    "#pprint.pprint(df_metadata_dict)"
   ]
  },
  {
   "cell_type": "code",
   "execution_count": 6,
   "id": "41b3ed1d",
   "metadata": {},
   "outputs": [],
   "source": [
    "# only keep the OB and DF that have all their parameters matching\n",
    "o_main = Main(sample_metadata_dict=sample_metadata_dict)\n",
    "\n",
    "# make master dictionary\n",
    "# {'ob': {'file1': {'acquired_before': True,\n",
    "#                   'time_offset': 100s},\n",
    "#         'file2': {'acquired_before': True,\n",
    "#                   'time_offset': 100s},\n",
    "#         'file3': {'acquired_before': True,\n",
    "#                   'time_offset': 100s},\n",
    "#         },\n",
    "#   'df': ....\n",
    "# }\n",
    "o_main.create_master_sample_dict()\n"
   ]
  },
  {
   "cell_type": "code",
   "execution_count": 7,
   "id": "173bfeb0",
   "metadata": {},
   "outputs": [],
   "source": [
    "# using default or user specified max time_offset, keep only the right OB \n",
    "o_main.match_ob(ob_metadata_dict)\n",
    "\n",
    "# and df\n",
    "o_main.match_df(df_metadata_dict)"
   ]
  },
  {
   "cell_type": "code",
   "execution_count": 8,
   "id": "6afe1bbd",
   "metadata": {
    "scrolled": false
   },
   "outputs": [],
   "source": [
    "#pprint.pprint(o_main.final_full_master_dict)"
   ]
  },
  {
   "cell_type": "code",
   "execution_count": 9,
   "id": "dc6a561a",
   "metadata": {},
   "outputs": [],
   "source": [
    "# give back list of OB and DF"
   ]
  },
  {
   "cell_type": "code",
   "execution_count": 10,
   "id": "82596c99",
   "metadata": {},
   "outputs": [],
   "source": [
    "list_ob = o_main.get_matching_data_file(data_type='ob')\n",
    "list_df = o_main.get_matching_data_file(data_type='df')"
   ]
  },
  {
   "cell_type": "code",
   "execution_count": 14,
   "id": "0ada6d06",
   "metadata": {},
   "outputs": [],
   "source": [
    "#pprint.pprint(list_ob)\n",
    "#pprint.pprint(list_df)"
   ]
  },
  {
   "cell_type": "code",
   "execution_count": null,
   "id": "0033871c",
   "metadata": {},
   "outputs": [],
   "source": []
  }
 ],
 "metadata": {
  "kernelspec": {
   "display_name": "Python 3",
   "language": "python",
   "name": "python3"
  },
  "language_info": {
   "codemirror_mode": {
    "name": "ipython",
    "version": 3
   },
   "file_extension": ".py",
   "mimetype": "text/x-python",
   "name": "python",
   "nbconvert_exporter": "python",
   "pygments_lexer": "ipython3",
   "version": "3.7.12"
  }
 },
 "nbformat": 4,
 "nbformat_minor": 5
}
