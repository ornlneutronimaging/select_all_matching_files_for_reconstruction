{
 "cells": [
  {
   "cell_type": "code",
   "execution_count": 1,
   "id": "0b500c6b",
   "metadata": {},
   "outputs": [],
   "source": [
    "list_sample_data = []"
   ]
  },
  {
   "cell_type": "code",
   "execution_count": 2,
   "id": "e8ba3b1a",
   "metadata": {},
   "outputs": [],
   "source": [
    "# retrieve metadata from first sample data file\n",
    "\n",
    "# retrieve acqusition starting time of first AND last sample data file"
   ]
  },
  {
   "cell_type": "code",
   "execution_count": 3,
   "id": "efe70118",
   "metadata": {},
   "outputs": [],
   "source": [
    "# list all OB files and create a metatada dict of informations\n",
    "#   - acquisition starting time\n",
    "#   - detector used\n",
    "#  - slits position\n",
    "#  - acquisition duration\n",
    "\n",
    "# list all DC files and do the same"
   ]
  },
  {
   "cell_type": "code",
   "execution_count": 4,
   "id": "41b3ed1d",
   "metadata": {},
   "outputs": [],
   "source": [
    "# only keep the OB and DF that have all their parameters matching"
   ]
  },
  {
   "cell_type": "code",
   "execution_count": 5,
   "id": "ebc0a784",
   "metadata": {},
   "outputs": [],
   "source": [
    "# make master dictionary\n",
    "# {'ob': {'file1': {'acquired_before': True,\n",
    "#                   'time_offset': 100s},\n",
    "#         'file2': {'acquired_before': True,\n",
    "#                   'time_offset': 100s},\n",
    "#         'file3': {'acquired_before': True,\n",
    "#                   'time_offset': 100s},\n",
    "#         },\n",
    "#   'df': ....\n",
    "# }"
   ]
  },
  {
   "cell_type": "code",
   "execution_count": 6,
   "id": "173bfeb0",
   "metadata": {},
   "outputs": [],
   "source": [
    "# using default or user specified max time_offset, keep only the right OB and DF"
   ]
  },
  {
   "cell_type": "code",
   "execution_count": 7,
   "id": "dc6a561a",
   "metadata": {},
   "outputs": [],
   "source": [
    "# give back list of OB and DF"
   ]
  },
  {
   "cell_type": "code",
   "execution_count": null,
   "id": "36c9bc6e",
   "metadata": {},
   "outputs": [],
   "source": []
  }
 ],
 "metadata": {
  "kernelspec": {
   "display_name": "Python 3 (ipykernel)",
   "language": "python",
   "name": "python3"
  },
  "language_info": {
   "codemirror_mode": {
    "name": "ipython",
    "version": 3
   },
   "file_extension": ".py",
   "mimetype": "text/x-python",
   "name": "python",
   "nbconvert_exporter": "python",
   "pygments_lexer": "ipython3",
   "version": "3.7.13"
  }
 },
 "nbformat": 4,
 "nbformat_minor": 5
}
