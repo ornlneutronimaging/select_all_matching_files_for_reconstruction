{
 "cells": [
  {
   "cell_type": "code",
   "execution_count": 4,
   "id": "700f980d",
   "metadata": {},
   "outputs": [],
   "source": [
    "first_image_time_stamp= 1598284664.8578725\n",
    "last_image_time_stamp= 1598371369.1004667"
   ]
  },
  {
   "cell_type": "code",
   "execution_count": 6,
   "id": "41304a95",
   "metadata": {},
   "outputs": [
    {
     "data": {
      "text/plain": [
       "1445.0707099040349"
      ]
     },
     "execution_count": 6,
     "metadata": {},
     "output_type": "execute_result"
    }
   ],
   "source": [
    "(last_image_time_stamp - first_image_time_stamp)/60. # s -> mn"
   ]
  },
  {
   "cell_type": "code",
   "execution_count": 22,
   "id": "872ef57b",
   "metadata": {},
   "outputs": [],
   "source": [
    "ob_time_stamp = 1598371951.9098186"
   ]
  },
  {
   "cell_type": "code",
   "execution_count": 23,
   "id": "40532e76",
   "metadata": {},
   "outputs": [],
   "source": [
    "ob1 = (ob_time_stamp - first_image_time_stamp) / 60.0\n",
    "ob2 = (ob_time_stamp - last_image_time_stamp) / 60.0"
   ]
  },
  {
   "cell_type": "code",
   "execution_count": 24,
   "id": "259c3117",
   "metadata": {},
   "outputs": [
    {
     "name": "stdout",
     "output_type": "stream",
     "text": [
      "ob1: 1454.7841991027196\n",
      "ob2: 9.713489198684693\n"
     ]
    }
   ],
   "source": [
    "print(f\"ob1: {ob1}\")\n",
    "print(f\"ob2: {ob2}\")"
   ]
  },
  {
   "cell_type": "code",
   "execution_count": null,
   "id": "8f1ccf4c",
   "metadata": {},
   "outputs": [],
   "source": []
  }
 ],
 "metadata": {
  "kernelspec": {
   "display_name": "Python 3 (ipykernel)",
   "language": "python",
   "name": "python3"
  },
  "language_info": {
   "codemirror_mode": {
    "name": "ipython",
    "version": 3
   },
   "file_extension": ".py",
   "mimetype": "text/x-python",
   "name": "python",
   "nbconvert_exporter": "python",
   "pygments_lexer": "ipython3",
   "version": "3.10.4"
  }
 },
 "nbformat": 4,
 "nbformat_minor": 5
}
