{
 "cells": [
  {
   "cell_type": "code",
   "execution_count": 1,
   "id": "ff6a4dbb",
   "metadata": {},
   "outputs": [],
   "source": [
    "import os\n",
    "import glob\n",
    "import pprint\n",
    "\n",
    "from samffr.retrieve_matching_ob_dc import RetrieveMatchingOBDC"
   ]
  },
  {
   "cell_type": "code",
   "execution_count": 3,
   "id": "a728b971",
   "metadata": {},
   "outputs": [
    {
     "name": "stdout",
     "output_type": "stream",
     "text": [
      "found 1290 raw data files\n"
     ]
    }
   ],
   "source": [
    "# this will be the folder just above the DF and OB\n",
    "#top_folder = \"/Volumes/G-DRIVE/IPTS/IPTS-27727-normalization_with_simplify_selection/raw_with_some_not_matching_ob_and_df/\"\n",
    "top_folder = '/Users/j35/HFIR/CG1D/IPTS-23788/raw/'\n",
    "\n",
    "# input sample data\n",
    "# input_sample_folder = \"/Volumes/G-DRIVE/IPTS/IPTS-27727-normalization_with_simplify_selection/raw_with_some_not_matching_ob_and_df/radiographs/\"\n",
    "input_sample_folder = top_folder + \"/ct_scans/Aug24_2020/\"\n",
    "assert os.path.exists(input_sample_folder)\n",
    "list_sample_data = glob.glob(os.path.join(input_sample_folder, \"*.tiff\"))\n",
    "print(f\"found {len(list_sample_data)} raw data files\")"
   ]
  },
  {
   "cell_type": "code",
   "execution_count": 3,
   "id": "460f3dc6",
   "metadata": {
    "scrolled": true
   },
   "outputs": [],
   "source": [
    "# print(f\"list_sample_data: {list_sample_data}\")\n",
    "# print(f\"top_folder: {top_folder}\")\n",
    "      "
   ]
  },
  {
   "cell_type": "markdown",
   "id": "b443e85f",
   "metadata": {},
   "source": [
    "# general case"
   ]
  },
  {
   "cell_type": "code",
   "execution_count": 4,
   "id": "0f208436",
   "metadata": {
    "scrolled": false
   },
   "outputs": [],
   "source": [
    "o_main = RetrieveMatchingOBDC(list_sample_data=list_sample_data,\n",
    "             IPTS_folder=top_folder,\n",
    "                )\n",
    "o_main.run()"
   ]
  },
  {
   "cell_type": "code",
   "execution_count": 5,
   "id": "0033871c",
   "metadata": {},
   "outputs": [
    {
     "name": "stdout",
     "output_type": "stream",
     "text": [
      "['/Users/j35/HFIR/CG1D/IPTS-23788/raw/ob/Aug24_2020/20200825_OB_0060_1310.tiff',\n",
      " '/Users/j35/HFIR/CG1D/IPTS-23788/raw/ob/Aug24_2020/20200825_OB_0060_1306.tiff',\n",
      " '/Users/j35/HFIR/CG1D/IPTS-23788/raw/ob/Aug24_2020/20200825_OB_0060_1307.tiff',\n",
      " '/Users/j35/HFIR/CG1D/IPTS-23788/raw/ob/Aug24_2020/20200825_OB_0060_1311.tiff',\n",
      " '/Users/j35/HFIR/CG1D/IPTS-23788/raw/ob/Aug24_2020/20200825_OB_0060_1302.tiff',\n",
      " '/Users/j35/HFIR/CG1D/IPTS-23788/raw/ob/Aug24_2020/20200825_OB_0060_1303.tiff',\n",
      " '/Users/j35/HFIR/CG1D/IPTS-23788/raw/ob/Aug24_2020/20200825_OB_0060_1304.tiff',\n",
      " '/Users/j35/HFIR/CG1D/IPTS-23788/raw/ob/Aug24_2020/20200825_OB_0060_1308.tiff',\n",
      " '/Users/j35/HFIR/CG1D/IPTS-23788/raw/ob/Aug24_2020/20200825_OB_0060_1309.tiff',\n",
      " '/Users/j35/HFIR/CG1D/IPTS-23788/raw/ob/Aug24_2020/20200825_OB_0060_1305.tiff']\n"
     ]
    }
   ],
   "source": [
    "pprint.pprint(o_main.get_matching_ob())"
   ]
  },
  {
   "cell_type": "code",
   "execution_count": 6,
   "id": "192027e4",
   "metadata": {},
   "outputs": [
    {
     "name": "stdout",
     "output_type": "stream",
     "text": [
      "['/Users/j35/HFIR/CG1D/IPTS-23788/raw/df/Aug24_2020/20200824_DF_0060_0001.tiff',\n",
      " '/Users/j35/HFIR/CG1D/IPTS-23788/raw/df/Aug24_2020/20200824_DF_0060_0000.tiff',\n",
      " '/Users/j35/HFIR/CG1D/IPTS-23788/raw/df/Aug24_2020/20200824_DF_0060_0007.tiff',\n",
      " '/Users/j35/HFIR/CG1D/IPTS-23788/raw/df/Aug24_2020/20200824_DF_0060_0006.tiff',\n",
      " '/Users/j35/HFIR/CG1D/IPTS-23788/raw/df/Aug24_2020/20200824_DF_0060_0009.tiff',\n",
      " '/Users/j35/HFIR/CG1D/IPTS-23788/raw/df/Aug24_2020/20200824_DF_0060_0005.tiff',\n",
      " '/Users/j35/HFIR/CG1D/IPTS-23788/raw/df/Aug24_2020/20200824_DF_0060_0004.tiff',\n",
      " '/Users/j35/HFIR/CG1D/IPTS-23788/raw/df/Aug24_2020/20200824_DF_0060_0008.tiff',\n",
      " '/Users/j35/HFIR/CG1D/IPTS-23788/raw/df/Aug24_2020/20200824_DF_0060_0003.tiff',\n",
      " '/Users/j35/HFIR/CG1D/IPTS-23788/raw/df/Aug24_2020/20200824_DF_0060_0002.tiff']\n"
     ]
    }
   ],
   "source": [
    "pprint.pprint(o_main.get_matching_dc())"
   ]
  },
  {
   "cell_type": "markdown",
   "id": "06e929bb",
   "metadata": {},
   "source": [
    "# with maximum time offset"
   ]
  },
  {
   "cell_type": "code",
   "execution_count": 5,
   "id": "cf3f22b7",
   "metadata": {},
   "outputs": [
    {
     "name": "stdout",
     "output_type": "stream",
     "text": [
      "ob_time_stamp of 0: 1598372016.9582071\n",
      "_index_ob: 0 was rejected\n",
      "ob_time_stamp of 1: 1598371757.164114\n",
      "_index_ob: 1 is good\n",
      "ob_time_stamp of 2: 1598371822.1780496\n",
      "_index_ob: 2 is good\n",
      "ob_time_stamp of 3: 1598372081.9570518\n",
      "_index_ob: 3 was rejected\n",
      "ob_time_stamp of 4: 1598371497.2193182\n",
      "_index_ob: 4 is good\n",
      "ob_time_stamp of 5: 1598371562.2177541\n",
      "_index_ob: 5 is good\n",
      "ob_time_stamp of 6: 1598371627.0582476\n",
      "_index_ob: 6 is good\n",
      "ob_time_stamp of 7: 1598371887.043347\n",
      "_index_ob: 7 is good\n",
      "ob_time_stamp of 8: 1598371951.9098186\n",
      "_index_ob: 8 was rejected\n",
      "ob_time_stamp of 9: 1598371692.1118999\n",
      "_index_ob: 9 is good\n"
     ]
    }
   ],
   "source": [
    "o_main = RetrieveMatchingOBDC(list_sample_data=list_sample_data,\n",
    "             IPTS_folder=top_folder,\n",
    "            maximum_time_offset_mn=9)\n",
    "o_main.run()"
   ]
  },
  {
   "cell_type": "code",
   "execution_count": 6,
   "id": "0f3f26fe",
   "metadata": {},
   "outputs": [
    {
     "name": "stdout",
     "output_type": "stream",
     "text": [
      "['/Users/j35/IPTS/HFIR/CG1D/IPTS-23788/raw/ob/Aug24_2020/20200825_OB_0060_1306.tiff',\n",
      " '/Users/j35/IPTS/HFIR/CG1D/IPTS-23788/raw/ob/Aug24_2020/20200825_OB_0060_1307.tiff',\n",
      " '/Users/j35/IPTS/HFIR/CG1D/IPTS-23788/raw/ob/Aug24_2020/20200825_OB_0060_1302.tiff',\n",
      " '/Users/j35/IPTS/HFIR/CG1D/IPTS-23788/raw/ob/Aug24_2020/20200825_OB_0060_1303.tiff',\n",
      " '/Users/j35/IPTS/HFIR/CG1D/IPTS-23788/raw/ob/Aug24_2020/20200825_OB_0060_1304.tiff',\n",
      " '/Users/j35/IPTS/HFIR/CG1D/IPTS-23788/raw/ob/Aug24_2020/20200825_OB_0060_1308.tiff',\n",
      " '/Users/j35/IPTS/HFIR/CG1D/IPTS-23788/raw/ob/Aug24_2020/20200825_OB_0060_1305.tiff']\n"
     ]
    }
   ],
   "source": [
    "pprint.pprint(o_main.get_matching_ob())"
   ]
  },
  {
   "cell_type": "markdown",
   "id": "09b4c494",
   "metadata": {},
   "source": [
    "# no matching OB found"
   ]
  },
  {
   "cell_type": "code",
   "execution_count": 7,
   "id": "d10788fc",
   "metadata": {},
   "outputs": [
    {
     "name": "stdout",
     "output_type": "stream",
     "text": [
      "found 1162 raw data files\n"
     ]
    }
   ],
   "source": [
    "top_folder = '/Users/j35/HFIR/CG1D/IPTS-28170/raw/'\n",
    "\n",
    "input_sample_folder = top_folder + \"/ct_scans/2022_03_16_nozzle/\"\n",
    "assert os.path.exists(input_sample_folder)\n",
    "list_sample_data = glob.glob(os.path.join(input_sample_folder, \"*.tiff\"))\n",
    "print(f\"found {len(list_sample_data)} raw data files\")"
   ]
  },
  {
   "cell_type": "code",
   "execution_count": 8,
   "id": "d719e43b",
   "metadata": {},
   "outputs": [],
   "source": [
    "o_main = RetrieveMatchingOBDC(list_sample_data=list_sample_data,\n",
    "             IPTS_folder=top_folder,\n",
    "                )\n",
    "o_main.run()"
   ]
  },
  {
   "cell_type": "code",
   "execution_count": 13,
   "id": "642d3949",
   "metadata": {
    "scrolled": true
   },
   "outputs": [],
   "source": [
    "# pprint.pprint(o_main.sample_metadata_dict)"
   ]
  },
  {
   "cell_type": "code",
   "execution_count": 9,
   "id": "a8050301",
   "metadata": {},
   "outputs": [
    {
     "name": "stdout",
     "output_type": "stream",
     "text": [
      "[]\n"
     ]
    }
   ],
   "source": [
    "pprint.pprint(o_main.get_matching_ob())"
   ]
  },
  {
   "cell_type": "code",
   "execution_count": 11,
   "id": "e5714d46",
   "metadata": {},
   "outputs": [
    {
     "name": "stdout",
     "output_type": "stream",
     "text": [
      "OrderedDict([(0,\n",
      "              {65026: {'name': 'DETECTOR_MANUFACTURER', 'value': 'Andor'},\n",
      "               65027: {'name': 'EXPOSURE_TIME', 'value': 30.0},\n",
      "               65064: {'name': 'APERTURE_VB', 'value': 37.0},\n",
      "               65066: {'name': 'APERTURE_VT', 'value': 41.0},\n",
      "               65068: {'name': 'APERTURE_HR', 'value': 41.0},\n",
      "               65070: {'name': 'APERTURE_HL', 'value': 41.0},\n",
      "               'filename': '/Users/j35/HFIR/CG1D/IPTS-28170/raw/ob/2022_01_12_0BarSpray/20220113_OB_0030_4145.tiff',\n",
      "               'time_stamp': 1642083817.282259,\n",
      "               'time_stamp_user_format': '2022-01-13 09:23:37'}),\n",
      "             (1,\n",
      "              {65026: {'name': 'DETECTOR_MANUFACTURER', 'value': 'Andor'},\n",
      "               65027: {'name': 'EXPOSURE_TIME', 'value': 30.0},\n",
      "               65064: {'name': 'APERTURE_VB', 'value': 37.0},\n",
      "               65066: {'name': 'APERTURE_VT', 'value': 41.0},\n",
      "               65068: {'name': 'APERTURE_HR', 'value': 41.0},\n",
      "               65070: {'name': 'APERTURE_HL', 'value': 41.0},\n",
      "               'filename': '/Users/j35/HFIR/CG1D/IPTS-28170/raw/ob/2022_01_12_0BarSpray/20220113_OB_0030_4149.tiff',\n",
      "               'time_stamp': 1642083957.2904558,\n",
      "               'time_stamp_user_format': '2022-01-13 09:25:57'}),\n",
      "             (2,\n",
      "              {65026: {'name': 'DETECTOR_MANUFACTURER', 'value': 'Andor'},\n",
      "               65027: {'name': 'EXPOSURE_TIME', 'value': 30.0},\n",
      "               65064: {'name': 'APERTURE_VB', 'value': 37.0},\n",
      "               65066: {'name': 'APERTURE_VT', 'value': 41.0},\n",
      "               65068: {'name': 'APERTURE_HR', 'value': 41.0},\n",
      "               65070: {'name': 'APERTURE_HL', 'value': 41.0},\n",
      "               'filename': '/Users/j35/HFIR/CG1D/IPTS-28170/raw/ob/2022_01_12_0BarSpray/20220113_OB_0030_4148.tiff',\n",
      "               'time_stamp': 1642083922.2557626,\n",
      "               'time_stamp_user_format': '2022-01-13 09:25:22'}),\n",
      "             (3,\n",
      "              {65026: {'name': 'DETECTOR_MANUFACTURER', 'value': 'Andor'},\n",
      "               65027: {'name': 'EXPOSURE_TIME', 'value': 30.0},\n",
      "               65064: {'name': 'APERTURE_VB', 'value': 37.0},\n",
      "               65066: {'name': 'APERTURE_VT', 'value': 41.0},\n",
      "               65068: {'name': 'APERTURE_HR', 'value': 41.0},\n",
      "               65070: {'name': 'APERTURE_HL', 'value': 41.0},\n",
      "               'filename': '/Users/j35/HFIR/CG1D/IPTS-28170/raw/ob/2022_01_12_0BarSpray/20220113_OB_0030_4147.tiff',\n",
      "               'time_stamp': 1642083887.2758877,\n",
      "               'time_stamp_user_format': '2022-01-13 09:24:47'}),\n",
      "             (4,\n",
      "              {65026: {'name': 'DETECTOR_MANUFACTURER', 'value': 'Andor'},\n",
      "               65027: {'name': 'EXPOSURE_TIME', 'value': 30.0},\n",
      "               65064: {'name': 'APERTURE_VB', 'value': 37.0},\n",
      "               65066: {'name': 'APERTURE_VT', 'value': 41.0},\n",
      "               65068: {'name': 'APERTURE_HR', 'value': 41.0},\n",
      "               65070: {'name': 'APERTURE_HL', 'value': 41.0},\n",
      "               'filename': '/Users/j35/HFIR/CG1D/IPTS-28170/raw/ob/2022_01_12_0BarSpray/20220113_OB_0030_4146.tiff',\n",
      "               'time_stamp': 1642083852.2964406,\n",
      "               'time_stamp_user_format': '2022-01-13 09:24:12'})])\n"
     ]
    }
   ],
   "source": [
    "pprint.pprint(o_main.ob_metadata_dict)"
   ]
  },
  {
   "cell_type": "code",
   "execution_count": 10,
   "id": "4bd6a807",
   "metadata": {},
   "outputs": [
    {
     "name": "stdout",
     "output_type": "stream",
     "text": [
      "['/Users/j35/HFIR/CG1D/IPTS-28170/raw/df/2022_01_10/20220111_DF_0030_2129.tiff',\n",
      " '/Users/j35/HFIR/CG1D/IPTS-28170/raw/df/2022_01_10/20220111_DF_0030_2125.tiff',\n",
      " '/Users/j35/HFIR/CG1D/IPTS-28170/raw/df/2022_01_10/20220111_DF_0030_2128.tiff',\n",
      " '/Users/j35/HFIR/CG1D/IPTS-28170/raw/df/2022_01_10/20220111_DF_0030_2127.tiff',\n",
      " '/Users/j35/HFIR/CG1D/IPTS-28170/raw/df/2022_01_10/20220111_DF_0030_2126.tiff']\n"
     ]
    }
   ],
   "source": [
    "pprint.pprint(o_main.get_matching_dc())"
   ]
  },
  {
   "cell_type": "code",
   "execution_count": null,
   "id": "018b8f90",
   "metadata": {},
   "outputs": [],
   "source": []
  }
 ],
 "metadata": {
  "kernelspec": {
   "display_name": "Python 3 (ipykernel)",
   "language": "python",
   "name": "python3"
  },
  "language_info": {
   "codemirror_mode": {
    "name": "ipython",
    "version": 3
   },
   "file_extension": ".py",
   "mimetype": "text/x-python",
   "name": "python",
   "nbconvert_exporter": "python",
   "pygments_lexer": "ipython3",
   "version": "3.8.13"
  }
 },
 "nbformat": 4,
 "nbformat_minor": 5
}
