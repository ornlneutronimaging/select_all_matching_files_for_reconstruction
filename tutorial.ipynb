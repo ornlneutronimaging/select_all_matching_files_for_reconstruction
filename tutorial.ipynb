{
 "cells": [
  {
   "cell_type": "code",
   "execution_count": 7,
   "id": "ff6a4dbb",
   "metadata": {},
   "outputs": [],
   "source": [
    "import os\n",
    "import glob\n",
    "import pprint\n",
    "\n",
    "from code.retrieve_matching_ob_dc import RetrieveMatchingOBDC"
   ]
  },
  {
   "cell_type": "code",
   "execution_count": 8,
   "id": "a728b971",
   "metadata": {},
   "outputs": [
    {
     "name": "stdout",
     "output_type": "stream",
     "text": [
      "found 6 raw data files\n"
     ]
    }
   ],
   "source": [
    "# this will be the folder just above the DF and OB\n",
    "top_folder = \"/Volumes/G-DRIVE/IPTS/IPTS-27727-normalization_with_simplify_selection/raw_with_some_not_matching_ob_and_df/\"\n",
    "\n",
    "# input sample data\n",
    "input_sample_folder = \"/Volumes/G-DRIVE/IPTS/IPTS-27727-normalization_with_simplify_selection/raw_with_some_not_matching_ob_and_df/radiographs/\"\n",
    "assert os.path.exists(input_sample_folder)\n",
    "list_sample_data = glob.glob(input_sample_folder + \"*.tiff\")\n",
    "print(f\"found {len(list_sample_data)} raw data files\")"
   ]
  },
  {
   "cell_type": "code",
   "execution_count": 9,
   "id": "0f208436",
   "metadata": {},
   "outputs": [
    {
     "data": {
      "application/vnd.jupyter.widget-view+json": {
       "model_id": "",
       "version_major": 2,
       "version_minor": 0
      },
      "text/plain": [
       "HBox(children=(Label(value='Retrieving time stamp of sample', layout=Layout(width='20%')), IntProgress(value=0…"
      ]
     },
     "metadata": {},
     "output_type": "display_data"
    },
    {
     "data": {
      "application/vnd.jupyter.widget-view+json": {
       "model_id": "",
       "version_major": 2,
       "version_minor": 0
      },
      "text/plain": [
       "HBox(children=(Label(value='Retrieving time stamp of ob', layout=Layout(width='20%')), IntProgress(value=0, la…"
      ]
     },
     "metadata": {},
     "output_type": "display_data"
    },
    {
     "data": {
      "application/vnd.jupyter.widget-view+json": {
       "model_id": "",
       "version_major": 2,
       "version_minor": 0
      },
      "text/plain": [
       "HBox(children=(Label(value=\"Retrieving time stamp of ['df', 'dc']\", layout=Layout(width='20%')), IntProgress(v…"
      ]
     },
     "metadata": {},
     "output_type": "display_data"
    }
   ],
   "source": [
    "o_main = RetrieveMatchingOBDC(list_sample_data=list_sample_data,\n",
    "             IPTS_folder=top_folder)\n",
    "o_main.run()"
   ]
  },
  {
   "cell_type": "code",
   "execution_count": 10,
   "id": "0033871c",
   "metadata": {},
   "outputs": [
    {
     "name": "stdout",
     "output_type": "stream",
     "text": [
      "['/Volumes/G-DRIVE/IPTS/IPTS-27727-normalization_with_simplify_selection/raw_with_some_not_matching_ob_and_df/ob/20191116_OB_0055_1368.tiff',\n",
      " '/Volumes/G-DRIVE/IPTS/IPTS-27727-normalization_with_simplify_selection/raw_with_some_not_matching_ob_and_df/ob/20191116_OB_0055_1369.tiff',\n",
      " '/Volumes/G-DRIVE/IPTS/IPTS-27727-normalization_with_simplify_selection/raw_with_some_not_matching_ob_and_df/ob/20191116_OB_0055_1370.tiff',\n",
      " '/Volumes/G-DRIVE/IPTS/IPTS-27727-normalization_with_simplify_selection/raw_with_some_not_matching_ob_and_df/ob/20191116_OB_0055_1371.tiff',\n",
      " '/Volumes/G-DRIVE/IPTS/IPTS-27727-normalization_with_simplify_selection/raw_with_some_not_matching_ob_and_df/ob/good_ob/20191116_OB_0055_1364.tiff',\n",
      " '/Volumes/G-DRIVE/IPTS/IPTS-27727-normalization_with_simplify_selection/raw_with_some_not_matching_ob_and_df/ob/good_ob/20191116_OB_0055_1365.tiff']\n"
     ]
    }
   ],
   "source": [
    "pprint.pprint(o_main.get_matching_ob())"
   ]
  },
  {
   "cell_type": "code",
   "execution_count": 11,
   "id": "192027e4",
   "metadata": {},
   "outputs": [
    {
     "name": "stdout",
     "output_type": "stream",
     "text": [
      "['/Volumes/G-DRIVE/IPTS/IPTS-27727-normalization_with_simplify_selection/raw_with_some_not_matching_ob_and_df/df/20191116_DF_0055_1390.tiff',\n",
      " '/Volumes/G-DRIVE/IPTS/IPTS-27727-normalization_with_simplify_selection/raw_with_some_not_matching_ob_and_df/df/good_df/20191116_DF_0055_1385.tiff',\n",
      " '/Volumes/G-DRIVE/IPTS/IPTS-27727-normalization_with_simplify_selection/raw_with_some_not_matching_ob_and_df/df/good_df/20191116_DF_0055_1388.tiff']\n"
     ]
    }
   ],
   "source": [
    "pprint.pprint(o_main.get_matching_dc())"
   ]
  },
  {
   "cell_type": "code",
   "execution_count": null,
   "id": "cf3f22b7",
   "metadata": {},
   "outputs": [],
   "source": []
  }
 ],
 "metadata": {
  "kernelspec": {
   "display_name": "Python 3",
   "language": "python",
   "name": "python3"
  },
  "language_info": {
   "codemirror_mode": {
    "name": "ipython",
    "version": 3
   },
   "file_extension": ".py",
   "mimetype": "text/x-python",
   "name": "python",
   "nbconvert_exporter": "python",
   "pygments_lexer": "ipython3",
   "version": "3.7.12"
  }
 },
 "nbformat": 4,
 "nbformat_minor": 5
}
