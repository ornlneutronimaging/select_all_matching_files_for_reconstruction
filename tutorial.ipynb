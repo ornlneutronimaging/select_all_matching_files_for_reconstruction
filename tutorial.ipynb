{
 "cells": [
  {
   "cell_type": "code",
   "execution_count": 9,
   "id": "ff6a4dbb",
   "metadata": {},
   "outputs": [],
   "source": [
    "import os\n",
    "import glob\n",
    "import pprint\n",
    "\n",
    "from samffr.retrieve_matching_ob_dc import RetrieveMatchingOBDC"
   ]
  },
  {
   "cell_type": "code",
   "execution_count": 10,
   "id": "a728b971",
   "metadata": {},
   "outputs": [
    {
     "name": "stdout",
     "output_type": "stream",
     "text": [
      "found 1290 raw data files\n"
     ]
    }
   ],
   "source": [
    "# this will be the folder just above the DF and OB\n",
    "#top_folder = \"/Volumes/G-DRIVE/IPTS/IPTS-27727-normalization_with_simplify_selection/raw_with_some_not_matching_ob_and_df/\"\n",
    "top_folder = '/Users/j35/IPTS/HFIR/CG1D/IPTS-23788/raw/'\n",
    "\n",
    "# input sample data\n",
    "# input_sample_folder = \"/Volumes/G-DRIVE/IPTS/IPTS-27727-normalization_with_simplify_selection/raw_with_some_not_matching_ob_and_df/radiographs/\"\n",
    "input_sample_folder = top_folder + \"/ct_scans/Aug24_2020/\"\n",
    "assert os.path.exists(input_sample_folder)\n",
    "list_sample_data = glob.glob(os.path.join(input_sample_folder, \"*.tiff\"))\n",
    "print(f\"found {len(list_sample_data)} raw data files\")"
   ]
  },
  {
   "cell_type": "code",
   "execution_count": 12,
   "id": "460f3dc6",
   "metadata": {
    "scrolled": true
   },
   "outputs": [],
   "source": [
    "# print(f\"list_sample_data: {list_sample_data}\")\n",
    "# print(f\"top_folder: {top_folder}\")\n",
    "      "
   ]
  },
  {
   "cell_type": "code",
   "execution_count": 6,
   "id": "0f208436",
   "metadata": {},
   "outputs": [],
   "source": [
    "o_main = RetrieveMatchingOBDC(list_sample_data=list_sample_data,\n",
    "             IPTS_folder=top_folder)\n",
    "o_main.run()"
   ]
  },
  {
   "cell_type": "code",
   "execution_count": 7,
   "id": "0033871c",
   "metadata": {},
   "outputs": [
    {
     "name": "stdout",
     "output_type": "stream",
     "text": [
      "['/Users/j35/IPTS/HFIR/CG1D/IPTS-23788/raw/ob/Aug24_2020/20200825_OB_0060_1310.tiff',\n",
      " '/Users/j35/IPTS/HFIR/CG1D/IPTS-23788/raw/ob/Aug24_2020/20200825_OB_0060_1306.tiff',\n",
      " '/Users/j35/IPTS/HFIR/CG1D/IPTS-23788/raw/ob/Aug24_2020/20200825_OB_0060_1307.tiff',\n",
      " '/Users/j35/IPTS/HFIR/CG1D/IPTS-23788/raw/ob/Aug24_2020/20200825_OB_0060_1311.tiff',\n",
      " '/Users/j35/IPTS/HFIR/CG1D/IPTS-23788/raw/ob/Aug24_2020/20200825_OB_0060_1302.tiff',\n",
      " '/Users/j35/IPTS/HFIR/CG1D/IPTS-23788/raw/ob/Aug24_2020/20200825_OB_0060_1303.tiff',\n",
      " '/Users/j35/IPTS/HFIR/CG1D/IPTS-23788/raw/ob/Aug24_2020/20200825_OB_0060_1304.tiff',\n",
      " '/Users/j35/IPTS/HFIR/CG1D/IPTS-23788/raw/ob/Aug24_2020/20200825_OB_0060_1308.tiff',\n",
      " '/Users/j35/IPTS/HFIR/CG1D/IPTS-23788/raw/ob/Aug24_2020/20200825_OB_0060_1309.tiff',\n",
      " '/Users/j35/IPTS/HFIR/CG1D/IPTS-23788/raw/ob/Aug24_2020/20200825_OB_0060_1305.tiff']\n"
     ]
    }
   ],
   "source": [
    "pprint.pprint(o_main.get_matching_ob())"
   ]
  },
  {
   "cell_type": "code",
   "execution_count": 8,
   "id": "192027e4",
   "metadata": {},
   "outputs": [
    {
     "name": "stdout",
     "output_type": "stream",
     "text": [
      "['/Users/j35/IPTS/HFIR/CG1D/IPTS-23788/raw/df/Aug24_2020/20200824_DF_0060_0001.tiff',\n",
      " '/Users/j35/IPTS/HFIR/CG1D/IPTS-23788/raw/df/Aug24_2020/20200824_DF_0060_0000.tiff',\n",
      " '/Users/j35/IPTS/HFIR/CG1D/IPTS-23788/raw/df/Aug24_2020/20200824_DF_0060_0007.tiff',\n",
      " '/Users/j35/IPTS/HFIR/CG1D/IPTS-23788/raw/df/Aug24_2020/20200824_DF_0060_0006.tiff',\n",
      " '/Users/j35/IPTS/HFIR/CG1D/IPTS-23788/raw/df/Aug24_2020/20200824_DF_0060_0009.tiff',\n",
      " '/Users/j35/IPTS/HFIR/CG1D/IPTS-23788/raw/df/Aug24_2020/20200824_DF_0060_0005.tiff',\n",
      " '/Users/j35/IPTS/HFIR/CG1D/IPTS-23788/raw/df/Aug24_2020/20200824_DF_0060_0004.tiff',\n",
      " '/Users/j35/IPTS/HFIR/CG1D/IPTS-23788/raw/df/Aug24_2020/20200824_DF_0060_0008.tiff',\n",
      " '/Users/j35/IPTS/HFIR/CG1D/IPTS-23788/raw/df/Aug24_2020/20200824_DF_0060_0003.tiff',\n",
      " '/Users/j35/IPTS/HFIR/CG1D/IPTS-23788/raw/df/Aug24_2020/20200824_DF_0060_0002.tiff']\n"
     ]
    }
   ],
   "source": [
    "pprint.pprint(o_main.get_matching_dc())"
   ]
  },
  {
   "cell_type": "code",
   "execution_count": null,
   "id": "cf3f22b7",
   "metadata": {},
   "outputs": [],
   "source": []
  }
 ],
 "metadata": {
  "kernelspec": {
   "display_name": "Python 3 (ipykernel)",
   "language": "python",
   "name": "python3"
  },
  "language_info": {
   "codemirror_mode": {
    "name": "ipython",
    "version": 3
   },
   "file_extension": ".py",
   "mimetype": "text/x-python",
   "name": "python",
   "nbconvert_exporter": "python",
   "pygments_lexer": "ipython3",
   "version": "3.8.13"
  }
 },
 "nbformat": 4,
 "nbformat_minor": 5
}
